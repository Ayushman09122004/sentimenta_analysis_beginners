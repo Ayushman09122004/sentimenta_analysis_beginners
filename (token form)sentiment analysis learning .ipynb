{
 "cells": [
  {
   "cell_type": "code",
   "execution_count": 2,
   "id": "49939c7d-84bc-49c3-a715-d678d2e868f4",
   "metadata": {},
   "outputs": [],
   "source": [
    "import pandas as pd \n",
    "import numpy as np \n",
    "import tensorflow as tf "
   ]
  },
  {
   "cell_type": "code",
   "execution_count": 49,
   "id": "f38bbd05-c4d0-43f2-a6b8-858220f36c3e",
   "metadata": {},
   "outputs": [],
   "source": [
    "train=pd.read_csv(\"Train.csv\")\n",
    "valid=pd.read_csv(\"Valid.csv\")\n",
    "test=pd.read_csv(\"Test.csv\")"
   ]
  },
  {
   "cell_type": "code",
   "execution_count": 51,
   "id": "d0c338f1-6d62-44c0-b7c0-c6a83eb4df5b",
   "metadata": {},
   "outputs": [],
   "source": [
    "from tensorflow.keras.preprocessing.text import Tokenizer\n",
    "tok1=Tokenizer(oov_token='<nothing>')\n",
    "tok2=Tokenizer(oov_token='<nothing>')\n",
    "tok3=Tokenizer(oov_token='<nothing>')"
   ]
  },
  {
   "cell_type": "code",
   "execution_count": 52,
   "id": "7fba2cc8-914d-47a5-aff1-a92f6af5a9b1",
   "metadata": {},
   "outputs": [],
   "source": [
    "tok1.fit_on_texts(train[\"text\"])\n",
    "tok2.fit_on_texts(valid[\"text\"])\n",
    "tok3.fit_on_texts(test[\"text\"])"
   ]
  },
  {
   "cell_type": "code",
   "execution_count": 66,
   "id": "c5f056b1-067a-4796-bbab-fba856483225",
   "metadata": {},
   "outputs": [
    {
     "data": {
      "text/plain": [
       "112203"
      ]
     },
     "execution_count": 66,
     "metadata": {},
     "output_type": "execute_result"
    }
   ],
   "source": [
    "# word_counts shows frequency \n",
    "# word_index shows the index given to each word\n",
    "#document_cout gives number of sentence \n",
    "\n",
    "len(tok.word_counts)"
   ]
  },
  {
   "cell_type": "code",
   "execution_count": 54,
   "id": "ead2ff4b-98f0-4c29-abcb-283422b3b682",
   "metadata": {},
   "outputs": [],
   "source": [
    "seq1=tok1.texts_to_sequences(train[\"text\"])\n",
    "seq2=tok2.texts_to_sequences(valid[\"text\"])\n",
    "seq3=tok3.texts_to_sequences(test[\"text\"])\n",
    "\n"
   ]
  },
  {
   "cell_type": "code",
   "execution_count": 55,
   "id": "41fc1007-8c0a-4dfd-8b26-11dcaa96e461",
   "metadata": {},
   "outputs": [],
   "source": [
    "from tensorflow.keras.utils import pad_sequences"
   ]
  },
  {
   "cell_type": "code",
   "execution_count": 56,
   "id": "0b0871c2-f55f-445f-af20-c9595b8d003c",
   "metadata": {},
   "outputs": [],
   "source": [
    "seq1=pad_sequences(seq1,padding='post')\n",
    "seq2=pad_sequences(seq2,padding='post')\n",
    "seq3=pad_sequences(seq3,padding='post')"
   ]
  },
  {
   "cell_type": "code",
   "execution_count": 80,
   "id": "8248c24a-654b-4d2a-b79e-75e5bc527123",
   "metadata": {},
   "outputs": [
    {
     "data": {
      "text/plain": [
       "0       0\n",
       "1       0\n",
       "2       0\n",
       "3       0\n",
       "4       0\n",
       "       ..\n",
       "4995    1\n",
       "4996    1\n",
       "4997    1\n",
       "4998    1\n",
       "4999    1\n",
       "Name: label, Length: 5000, dtype: int64"
      ]
     },
     "execution_count": 80,
     "metadata": {},
     "output_type": "execute_result"
    }
   ],
   "source": [
    "valid"
   ]
  },
  {
   "cell_type": "code",
   "execution_count": 85,
   "id": "32769b4b-31d3-4e9f-a418-dcc7a71f9527",
   "metadata": {},
   "outputs": [],
   "source": [
    "x_train=seq1\n",
    "y_train=train[\"label\"]\n",
    "x_valid=seq2\n",
    "\n",
    "x_test=seq3\n",
    "y_test=test[\"label\"]"
   ]
  },
  {
   "cell_type": "code",
   "execution_count": 58,
   "id": "c7da0a7c-1fc6-4dc4-b0e8-a4b875e5bb77",
   "metadata": {},
   "outputs": [
    {
     "data": {
      "text/plain": [
       "2493"
      ]
     },
     "execution_count": 58,
     "metadata": {},
     "output_type": "execute_result"
    }
   ],
   "source": [
    "# padded so the size of each review is same \n",
    "len(x_train[1])"
   ]
  },
  {
   "cell_type": "code",
   "execution_count": 70,
   "id": "ad0496ee-503a-4665-adb4-df8aa5ce5051",
   "metadata": {},
   "outputs": [],
   "source": [
    "from tensorflow.keras.models import Sequential\n",
    "from tensorflow.keras.layers import Dense,LSTM,Embedding,Dropout\n"
   ]
  },
  {
   "cell_type": "markdown",
   "id": "e07d65a8-8b74-4a10-bae1-8f1eccdff91d",
   "metadata": {},
   "source": [
    "### Embedding Layer Parameters:\n",
    "### input_dim: Size of the vocabulary, i.e., the total number of unique words in your dataset. This parameter determines the size of the one-hot encoded vectors for each word.\n",
    "\n",
    "### output_dim: Dimension of the dense embedding. This is the size of the embedding vectors for each word. Larger values can capture more complex relationships between words but require more computational resources.\n",
    "\n",
    "### input_length: Length of input sequences. In this case, it's set to maxlen, which is the maximum length of each review after padding."
   ]
  },
  {
   "cell_type": "code",
   "execution_count": 88,
   "id": "d76fe54f-4943-4f0b-b5ab-bbf7ca3de619",
   "metadata": {},
   "outputs": [],
   "source": [
    "#Embedding layer is crucial for LSTM (and other types of neural networks) when working with text data.\n",
    "model = Sequential([\n",
    "    Embedding(input_dim=112203, output_dim=128, input_length=2493),\n",
    "    LSTM(128, return_sequences=False),\n",
    "    Dropout(0.5),\n",
    "    Dense(1, activation='sigmoid')\n",
    "])\n",
    "# Binary cross-entropy is commonly used for sentiment analysis because it is well-suited for binary classification tasks \n",
    "# where each sample belongs to one of two classes (positive or negative sentiment in the case of sentiment analysis).\n",
    "model.compile(optimizer='adam', loss='binary_crossentropy', metrics=['accuracy'])"
   ]
  },
  {
   "cell_type": "code",
   "execution_count": 86,
   "id": "76c9ade8-e8aa-4eb6-8bf2-5a42a7b79908",
   "metadata": {},
   "outputs": [],
   "source": []
  },
  {
   "cell_type": "code",
   "execution_count": null,
   "id": "77aebbff-3d17-4400-beb1-ca6fb32bdfb0",
   "metadata": {},
   "outputs": [],
   "source": []
  }
 ],
 "metadata": {
  "kernelspec": {
   "display_name": "Python 3 (ipykernel)",
   "language": "python",
   "name": "python3"
  },
  "language_info": {
   "codemirror_mode": {
    "name": "ipython",
    "version": 3
   },
   "file_extension": ".py",
   "mimetype": "text/x-python",
   "name": "python",
   "nbconvert_exporter": "python",
   "pygments_lexer": "ipython3",
   "version": "3.11.7"
  }
 },
 "nbformat": 4,
 "nbformat_minor": 5
}
